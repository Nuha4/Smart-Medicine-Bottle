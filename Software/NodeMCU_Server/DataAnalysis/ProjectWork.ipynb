{
 "cells": [
  {
   "cell_type": "code",
   "execution_count": 1,
   "metadata": {
    "collapsed": true
   },
   "outputs": [],
   "source": [
    "import pandas as pd\n",
    "import numpy as np\n",
    "import scipy as sp\n",
    "import plotly.plotly as py\n",
    "import matplotlib.pyplot as plt\n",
    "import plotly.figure_factory as ff"
   ]
  },
  {
   "cell_type": "code",
   "execution_count": 17,
   "metadata": {},
   "outputs": [],
   "source": [
    "\n",
    "#You can load your mongodb data to pandas DataFrame using this code. \n",
    "import pymongo\n",
    "from pymongo import MongoClient\n",
    "client = MongoClient()\n",
    "db = client.MedicineDB\n",
    "collection = db.data_table\n",
    "data = pd.DataFrame(list(collection.find()))"
   ]
  },
  {
   "cell_type": "code",
   "execution_count": 18,
   "metadata": {},
   "outputs": [
    {
     "data": {
      "text/html": [
       "<div>\n",
       "<style>\n",
       "    .dataframe thead tr:only-child th {\n",
       "        text-align: right;\n",
       "    }\n",
       "\n",
       "    .dataframe thead th {\n",
       "        text-align: left;\n",
       "    }\n",
       "\n",
       "    .dataframe tbody tr th {\n",
       "        vertical-align: top;\n",
       "    }\n",
       "</style>\n",
       "<table border=\"1\" class=\"dataframe\">\n",
       "  <thead>\n",
       "    <tr style=\"text-align: right;\">\n",
       "      <th></th>\n",
       "      <th>Gram</th>\n",
       "      <th>TimeStamp</th>\n",
       "      <th>_id</th>\n",
       "      <th>dd-mm-yyyy hh-mm-ss</th>\n",
       "      <th>sensorType</th>\n",
       "    </tr>\n",
       "  </thead>\n",
       "  <tbody>\n",
       "    <tr>\n",
       "      <th>0</th>\n",
       "      <td>[0.09148]</td>\n",
       "      <td>Date and Time</td>\n",
       "      <td>5a7945bc82cbac2a0c8ad223</td>\n",
       "      <td>[1/1/1970  8:1:52]</td>\n",
       "      <td>LoadCell</td>\n",
       "    </tr>\n",
       "    <tr>\n",
       "      <th>1</th>\n",
       "      <td>[0.303587]</td>\n",
       "      <td>Date and Time</td>\n",
       "      <td>5a7945da82cbac2a0c8ad224</td>\n",
       "      <td>[1/1/1970  8:2:23]</td>\n",
       "      <td>LoadCell</td>\n",
       "    </tr>\n",
       "    <tr>\n",
       "      <th>2</th>\n",
       "      <td>[0.201794]</td>\n",
       "      <td>Date and Time</td>\n",
       "      <td>5a7945f982cbac2a0c8ad225</td>\n",
       "      <td>[6/2/2018  12:6:48]</td>\n",
       "      <td>LoadCell</td>\n",
       "    </tr>\n",
       "    <tr>\n",
       "      <th>3</th>\n",
       "      <td>[5.795516]</td>\n",
       "      <td>Date and Time</td>\n",
       "      <td>5a79461882cbac2a0c8ad226</td>\n",
       "      <td>[6/2/2018  12:7:19]</td>\n",
       "      <td>LoadCell</td>\n",
       "    </tr>\n",
       "  </tbody>\n",
       "</table>\n",
       "</div>"
      ],
      "text/plain": [
       "         Gram      TimeStamp                       _id  dd-mm-yyyy hh-mm-ss  \\\n",
       "0   [0.09148]  Date and Time  5a7945bc82cbac2a0c8ad223   [1/1/1970  8:1:52]   \n",
       "1  [0.303587]  Date and Time  5a7945da82cbac2a0c8ad224   [1/1/1970  8:2:23]   \n",
       "2  [0.201794]  Date and Time  5a7945f982cbac2a0c8ad225  [6/2/2018  12:6:48]   \n",
       "3  [5.795516]  Date and Time  5a79461882cbac2a0c8ad226  [6/2/2018  12:7:19]   \n",
       "\n",
       "  sensorType  \n",
       "0   LoadCell  \n",
       "1   LoadCell  \n",
       "2   LoadCell  \n",
       "3   LoadCell  "
      ]
     },
     "execution_count": 18,
     "metadata": {},
     "output_type": "execute_result"
    }
   ],
   "source": [
    "data"
   ]
  },
  {
   "cell_type": "code",
   "execution_count": null,
   "metadata": {},
   "outputs": [],
   "source": []
  },
  {
   "cell_type": "code",
   "execution_count": null,
   "metadata": {
    "collapsed": true
   },
   "outputs": [],
   "source": []
  }
 ],
 "metadata": {
  "kernelspec": {
   "display_name": "Python 3",
   "language": "python",
   "name": "python3"
  },
  "language_info": {
   "codemirror_mode": {
    "name": "ipython",
    "version": 3
   },
   "file_extension": ".py",
   "mimetype": "text/x-python",
   "name": "python",
   "nbconvert_exporter": "python",
   "pygments_lexer": "ipython3",
   "version": "3.6.3"
  }
 },
 "nbformat": 4,
 "nbformat_minor": 2
}
